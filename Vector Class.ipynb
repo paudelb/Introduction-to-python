{
 "cells": [
  {
   "cell_type": "markdown",
   "metadata": {},
   "source": [
    "# Vector Class"
   ]
  },
  {
   "cell_type": "code",
   "execution_count": 1,
   "metadata": {},
   "outputs": [],
   "source": [
    "import numpy as np\n",
    "import matplotlib.pyplot as plt"
   ]
  },
  {
   "cell_type": "code",
   "execution_count": 2,
   "metadata": {},
   "outputs": [],
   "source": [
    "class vector_operations():\n",
    "    \n",
    "    def __init__(self,x1,y1,z1,x2,y2,z2):\n",
    "        self.x1=x1\n",
    "        self.y1=y1\n",
    "        self.z1=z1\n",
    "        self.x2=x2\n",
    "        self.y2=y2\n",
    "        self.z2=z2\n",
    "        self.A= [self.x1,self.y1,self.z1]\n",
    "        self.B= [self.x2,self.y2,self.z2]\n",
    "    \n",
    "    def dot_product(self):\n",
    "        Dot = np.dot(self.A,self.B)\n",
    "        return Dot\n",
    "    \n",
    "    def cross_product(self):\n",
    "        Cross = np.cross(self.A,self.B)\n",
    "        return Cross\n",
    "    \n",
    "    def addition(self):\n",
    "        C = np.add(self.A,self.B)\n",
    "        return C\n",
    "    \n",
    "    def norm_A(self):\n",
    "        mag_A= np.sqrt(self.x1**2+self.y1**2+self.z1**2)\n",
    "        return mag_A\n",
    "    \n",
    "    def norm_B(self):\n",
    "        mag_B= np.sqrt(self.x2**2+self.y2**2+self.z2**2)\n",
    "        return mag_B\n",
    " \n",
    "    def sub(self):\n",
    "        D = np.add(self.A,self.B)\n",
    "        return D\n",
    "    \n",
    "    def angle(self):\n",
    "        Angle = np.arctan(self.dot_product())/(self.norm_A()*self.norm_B())\n",
    "        return Angle\n",
    "    \n",
    "    def plot(self):\n",
    "    \n",
    "        X=plt.plot(self.A,label = 'A')\n",
    "        X=plt.plot(self.B,label = 'B')\n",
    "        plt.xlabel('A')\n",
    "        plt.ylabel('B')\n",
    "        plt.legend()\n",
    "        Y=plt.show()"
   ]
  },
  {
   "cell_type": "code",
   "execution_count": 3,
   "metadata": {},
   "outputs": [
    {
     "name": "stdout",
     "output_type": "stream",
     "text": [
      "A.B =                    24\n",
      "A*B =                    [ -3 -18  13]\n",
      "A+B =                    [-3  7  9]\n",
      "A-B =                    [-3  7  9]\n",
      "Magnitude of A =         3.7416573867739413\n",
      "Magnitude of B =         8.774964387392123\n",
      "Angle between A and B =  0.04657381063238847 radians\n"
     ]
    },
    {
     "data": {
      "image/png": "[encoded data removed]",
      "text/plain": [
       "<Figure size 432x288 with 1 Axes>"
      ]
     },
     "metadata": {
      "needs_background": "light"
     },
     "output_type": "display_data"
    }
   ],
   "source": [
    "V1 = vector_operations(1,2,3,-4,5,6)\n",
    "print ('A.B =                   ',V1.dot_product())\n",
    "print ('A*B =                   ',V1.cross_product())\n",
    "print ('A+B =                   ',V1.addition()),\n",
    "print ('A-B =                   ',V1.sub())\n",
    "print ('Magnitude of A =        ',V1.norm_A())\n",
    "print ('Magnitude of B =        ',V1.norm_B())\n",
    "print ('Angle between A and B = ',V1.angle(),'radians')\n",
    "V1.plot()"
   ]
  },
  {
   "cell_type": "code",
   "execution_count": null,
   "metadata": {},
   "outputs": [],
   "source": []
  }
 ],
 "metadata": {
  "kernelspec": {
   "display_name": "Python 3",
   "language": "python",
   "name": "python3"
  },
  "language_info": {
   "codemirror_mode": {
    "name": "ipython",
    "version": 3
   },
   "file_extension": ".py",
   "mimetype": "text/x-python",
   "name": "python",
   "nbconvert_exporter": "python",
   "pygments_lexer": "ipython3",
   "version": "3.7.4"
  }
 },
 "nbformat": 4,
 "nbformat_minor": 2
}
