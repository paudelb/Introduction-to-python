{
 "cells": [
  {
   "cell_type": "code",
   "execution_count": 5,
   "metadata": {},
   "outputs": [],
   "source": [
    "import sys\n",
    "from tkinter import *\n",
    "import time\n"
   ]
  },
  {
   "cell_type": "code",
   "execution_count": 6,
   "metadata": {},
   "outputs": [],
   "source": [
    "def times():\n",
    "    current_time=time.strftime(\"%H:%M:%S\")\n",
    "    clock.config(text=current_time)\n",
    "    clock.after(200,times)"
   ]
  },
  {
   "cell_type": "code",
   "execution_count": 7,
   "metadata": {},
   "outputs": [],
   "source": [
    "root=Tk()\n",
    "clock=Label(root,font=(\"times\",50,\"bold\"),bg=\"red\")\n",
    "clock.grid(row = 2, column = 2, pady = 25,padx = 100)\n",
    "times()"
   ]
  },
  {
   "cell_type": "code",
   "execution_count": 8,
   "metadata": {},
   "outputs": [],
   "source": [
    "digi =Label(root,text = \"Digital Clock\", font = \"calibri 42 bold\")\n",
    "digi.grid(row = 0, column = 2)\n",
    "\n",
    "nota = Label(root, text = \"hours   minutes   seconds   \",font = \"times 15 bold\")\n",
    "nota.grid(row = 3, column = 2)\n",
    "root. mainloop()"
   ]
  },
  {
   "cell_type": "code",
   "execution_count": null,
   "metadata": {},
   "outputs": [],
   "source": []
  }
 ],
 "metadata": {
  "kernelspec": {
   "display_name": "Python 3",
   "language": "python",
   "name": "python3"
  },
  "language_info": {
   "codemirror_mode": {
    "name": "ipython",
    "version": 3
   },
   "file_extension": ".py",
   "mimetype": "text/x-python",
   "name": "python",
   "nbconvert_exporter": "python",
   "pygments_lexer": "ipython3",
   "version": "3.7.4"
  }
 },
 "nbformat": 4,
 "nbformat_minor": 2
}
