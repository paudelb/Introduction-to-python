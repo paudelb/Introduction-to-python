{
 "cells": [
  {
   "cell_type": "markdown",
   "metadata": {},
   "source": [
    "# Function and Classes"
   ]
  },
  {
   "cell_type": "markdown",
   "metadata": {},
   "source": [
    "### Coulombs law function"
   ]
  },
  {
   "cell_type": "code",
   "execution_count": 5,
   "metadata": {},
   "outputs": [],
   "source": [
    "def force(q1,q2,r):\n",
    "    F = (q1*q2)/r**2\n",
    "    return F"
   ]
  },
  {
   "cell_type": "code",
   "execution_count": 6,
   "metadata": {},
   "outputs": [
    {
     "data": {
      "text/plain": [
       "0.07407407407407407"
      ]
     },
     "execution_count": 6,
     "metadata": {},
     "output_type": "execute_result"
    }
   ],
   "source": [
    "force(2,3,9)"
   ]
  },
  {
   "cell_type": "markdown",
   "metadata": {},
   "source": [
    "### Class Electricity"
   ]
  },
  {
   "cell_type": "code",
   "execution_count": 27,
   "metadata": {},
   "outputs": [],
   "source": [
    "class E():\n",
    "    \n",
    "    def __init__(self,value_of_K,supplied_info):\n",
    "        self.K=value_of_K\n",
    "        self.info=supplied_info\n",
    "        \n",
    "    def force(self,q1,q2,r):\n",
    "        F=self.K*(q1*q2)/r**2\n",
    "        print(self.info)\n",
    "        return F\n",
    "    def electric_potential(self,q1,r):\n",
    "        V=self.K*q1/r\n",
    "        return V\n",
    "        "
   ]
  },
  {
   "cell_type": "code",
   "execution_count": 34,
   "metadata": {},
   "outputs": [],
   "source": [
    "E1 = E(value_of_K=1, supplied_info='in cgs units')"
   ]
  },
  {
   "cell_type": "code",
   "execution_count": 44,
   "metadata": {},
   "outputs": [
    {
     "name": "stdout",
     "output_type": "stream",
     "text": [
      "in cgs units\n",
      "Force=  438.30813061582285 ergs Potential=  17.094017094017094\n"
     ]
    }
   ],
   "source": [
    "print('Force= ',E1.force(4,6,0.234),'ergs',\\\n",
    "      'Potential= ', E1.electric_potential(q1=4,r=0.234),'erg.c')"
   ]
  },
  {
   "cell_type": "code",
   "execution_count": null,
   "metadata": {},
   "outputs": [],
   "source": []
  },
  {
   "cell_type": "code",
   "execution_count": null,
   "metadata": {},
   "outputs": [],
   "source": []
  }
 ],
 "metadata": {
  "kernelspec": {
   "display_name": "Python 3",
   "language": "python",
   "name": "python3"
  },
  "language_info": {
   "codemirror_mode": {
    "name": "ipython",
    "version": 3
   },
   "file_extension": ".py",
   "mimetype": "text/x-python",
   "name": "python",
   "nbconvert_exporter": "python",
   "pygments_lexer": "ipython3",
   "version": "3.7.4"
  }
 },
 "nbformat": 4,
 "nbformat_minor": 2
}
